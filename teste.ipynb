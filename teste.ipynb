{
 "cells": [
  {
   "cell_type": "code",
   "execution_count": 9,
   "metadata": {},
   "outputs": [
    {
     "name": "stdout",
     "output_type": "stream",
     "text": [
      "Receiving update from node: 'get_stats'\n",
      "{'statistics': {'Month': ['Jan', 'Feb', 'Mar', 'Apr', 'May'], 'Tasks': [23, 34, 45, 56, 43]}}\n",
      "\n",
      "\n",
      "\n",
      "Receiving update from node: 'get_categories'\n",
      "{'categories': [{'id': 1, 'name': 'Work', 'color': '#FF6B6B', 'count': 12}, {'id': 2, 'name': 'Personal', 'color': '#4ECDC4', 'count': 8}, {'id': 3, 'name': 'Health', 'color': '#45B7D1', 'count': 15}, {'id': 4, 'name': 'Learning', 'color': '#96CEB4', 'count': 6}, {'id': 5, 'name': 'Projects', 'color': '#FFEEAD', 'count': 10}, {'id': 6, 'name': 'Family', 'color': '#D4A5A5', 'count': 9}]}\n",
      "\n",
      "\n",
      "\n",
      "Receiving update from node: 'get_chat'\n",
      "{'messages': [{'id': 1, 'sender': 'AI', 'text': 'Hello! How can I help you today?', 'timestamp': '10:00'}, {'id': 2, 'sender': 'User', 'text': 'I need help organizing my tasks', 'timestamp': '10:01'}, {'id': 3, 'sender': 'AI', 'text': 'I can help you with that! What kind of tasks do you need to organize?', 'timestamp': '10:02'}]}\n",
      "\n",
      "\n",
      "\n"
     ]
    }
   ],
   "source": [
    "from src.agent import graph\n",
    "inputs=dict(messages=[])\n",
    "async for chunk in graph.astream(inputs, stream_mode=\"updates\"):\n",
    "    for node, values in chunk.items():\n",
    "        print(f\"Receiving update from node: '{node}'\")\n",
    "        print(values)\n",
    "        print(\"\\n\\n\")"
   ]
  }
 ],
 "metadata": {
  "kernelspec": {
   "display_name": ".venv",
   "language": "python",
   "name": "python3"
  },
  "language_info": {
   "codemirror_mode": {
    "name": "ipython",
    "version": 3
   },
   "file_extension": ".py",
   "mimetype": "text/x-python",
   "name": "python",
   "nbconvert_exporter": "python",
   "pygments_lexer": "ipython3",
   "version": "3.11.6"
  }
 },
 "nbformat": 4,
 "nbformat_minor": 2
}
